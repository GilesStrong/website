{
 "cells": [
  {
   "cell_type": "markdown",
   "source": [
    "# \"Into the INFERNO: parameter estimation under uncertainty - Part 5\"\n",
    "> \"In this series of posts, we'll be looking at one of the most common problems in high-energy physics; that of estimating some parameter of interest. In this concluding post we'll examine one of the concerns raised in the last post about having to know the analytical effect of nuisance parameters on input features and see how we can instead approximate the effects.\"\n",
    "\n",
    "- toc: true\n",
    "- branch: master\n",
    "- badges: true\n",
    "- comments: true\n",
    "- categories: [statistics, HEP, INFERNO]\n",
    "- image: images/copied_from_nb/imgs/inferno/approx_inferno_systs.png\n",
    "- hide: false\n",
    "- search_exclude: false"
   ],
   "metadata": {}
  },
  {
   "cell_type": "markdown",
   "source": [
    "![binning comparison](imgs/inferno/approx_inferno_systs.png)"
   ],
   "metadata": {}
  },
  {
   "cell_type": "markdown",
   "source": [
    "Welcome back to the concluding part of this blog-post series. In case you missed the previous posts: [first](https://gilesstrong.github.io/website/statistics/hep/inferno/2020/12/04/inferno-1.html), [second](https://gilesstrong.github.io/website/statistics/hep/inferno/2020/12/11/inferno-2.html), [third](https://gilesstrong.github.io/website/statistics/hep/inferno/2020/12/18/inferno-3.html), and  [fourth](https://gilesstrong.github.io/website/statistics/hep/inferno/2020/12/31/inferno-4.html).\n",
    "\n",
    "Last time we applied INFERNO to the toy-example presented in the [INFERNO](https://www.sciencedirect.com/science/article/pii/S0010465519301948) paper, and demonstrated how the method made our parameter estimation more resilient to the effects of nuisance parameters that affect both the shapes of input features and the overall normalisation of the classes. Here we'll look at how we can achieve the same effect without having to know the analytical effect of the nuisance parameters on the input features.\n",
    "\n",
    "As a reminder, we're using a PyTorch implementation of INFERNO which I've put together. The package can be installed using:"
   ],
   "metadata": {}
  },
  {
   "cell_type": "markdown",
   "source": [
    "!pip install pytorch_inferno==0.0.1"
   ],
   "metadata": {}
  },
  {
   "cell_type": "markdown",
   "source": [
    "Docs are located [here](https://gilesstrong.github.io/pytorch_inferno/) and the Github repo is [here](https://github.com/GilesStrong/pytorch_inferno). I'm installing v0.0.1 here, since it was what I used when writing this post, but for your own work, you should grab the latest version.\n",
    "\n",
    "As an additional note, these blog posts are fully runnable as Jupyter notebooks. You can either download them, or click the Google Colab badge at the top to follow along!"
   ],
   "metadata": {}
  },
  {
   "cell_type": "markdown",
   "source": [
    "## Approximating INFERNO"
   ],
   "metadata": {}
  },
  {
   "cell_type": "markdown",
   "source": [
    "The approach as presented last time, requires modelling the effect of the shape nuisances on the inputs in an analytical manner. Usually, though, this is difficult. As an example, in high-energy physics, we often have systematic uncertainties like QCD scale, various energy scales, and correction factors for upstream algorithms. These affect a range of features of the data in complex ways. Additionally, their effects are sometimes modelled by changing fundamental parameters in the Monte Carlo simulator used to generate training data. \n",
    "\n",
    "Knowing exactly how variations in a given nuisance parameter alter the input features is not normally possible. Indeed, when we have optimised the likelihood in previous posts, we have assumed this and so haven't fully propagated the effects of the parameters through our classifier, instead we generated up/down systematic variations for the model response and interpolated between them and the nominal template (or extrapolated away from them). The trick, then, is to also do this interpolation/extrapolation inside INFERNO.\n",
    "\n",
    "When performing a HEP analysis with systematic uncertainties, these up/down variation samples are usually generated via modifying the relevant parameters in the simulation, i.e. for an analysis one has a nominal dataset and also datasets for up and down variations for each nuisance parameter separately. The approximation of INFERNO presented here is designed to work directly on such datasets.\n",
    "\n",
    "One key point is that we will compare nominal and systematic datasets in terms of template shape, rather than on a per data-point level. This means that the systematic datasets don't have to match the nominal dataset event-wise, i.e. we don't need to know how a given event would change if a certain parameter were altered, instead we only need to know the average effect that changing the parameter causes. This certainly simplifies things from both a simulation and implementation point of view."
   ],
   "metadata": {}
  },
  {
   "cell_type": "markdown",
   "source": [
    "### Abstract implementation"
   ],
   "metadata": {}
  },
  {
   "cell_type": "markdown",
   "source": [
    "The interpolation-based INFERNO loss in pytorch_inferno is implemented similar to the exact version, i.e. as a [callback](https://gilesstrong.github.io/pytorch_inferno/callback.html#AbsCallback). Again, there is an [abstract class](https://gilesstrong.github.io/pytorch_inferno/inferno_interp.html#AbsInferno) implementing the basic functionality, and the idea is that users can inherit from it to apply to their specific problems, e.g in our case [PaperInferno](https://gilesstrong.github.io/pytorch_inferno/inferno_interp.html#PaperInferno). Note however that even the \"abstract\" class is still designed for a Poisson counting problem.\n",
    "\n",
    "Let's go through the code function by function:\n",
    "```python\n",
    "    def __init__(self, n:int, true_mu:float, aug_alpha:bool=False, n_alphas:int=0, n_steps:int=100, lr:float=0.1,\n",
    "                 float_b:bool=False, alpha_aux:Optional[List[Distribution]]=None, b_aux:Optional[Distribution]=None):\n",
    "        super().__init__()\n",
    "        store_attr()\n",
    "        self.true_b = self.n-self.true_mu\n",
    "```\n",
    "\n",
    "The initialisation is similar to the exact version: Asimov count `n`, and the true signal strength `true_mu`. The true background count is then computed automatically. `n_alphas` is the number of shape systematics to expect and `float_b` is whether or not the background normalisation should be allowed to vary. Any auxiliary measurements for the shape parameters and background yield can be passed as PyTorch distributions to the `alpha_aux` and `b_aux` arguments.\n",
    "\n",
    "There is also the option to augment the nuisance parameters `aug_alpha`. This is an idea I had which is still experimental - basically the nuisances start each minibatch at random points about their nominal values and undergo Newtonian optimisation according to `lr` and `n_steps`. This could perhaps be thought of as a form of regularisation or data-augmentation. In this example it seems to work well, but as I say, it's still experimental, so I won't talk about it much here.\n",
    "\n",
    "```python\n",
    "def on_train_begin(self) -> None:\n",
    "    self.wrapper.loss_func = None\n",
    "    for c in self.wrapper.cbs:\n",
    "        if hasattr(c, 'loss_is_meaned'): c.loss_is_meaned = False\n",
    "```\n",
    "\n",
    "Unlike the exact version, when the training starts we don't need to cache a tensor of the nuisance parameters, but we do still want to ensure that the model doesn't have any other losses.\n",
    "\n",
    "Having passed the nominal input data through the network, we call:\n",
    "```python\n",
    "def on_forwards_end(self) -> None:\n",
    "    r'''Compute loss and replace wrapper loss value'''\n",
    "    b = self.wrapper.y.squeeze() == 0\n",
    "    f_s = self.to_shape(self.wrapper.y_pred[~b])\n",
    "    f_b = self.to_shape(self.wrapper.y_pred[b])\n",
    "    f_b_up,f_b_dw = self._get_up_down(self.wrapper.x[b])\n",
    "    self.wrapper.loss_val = self.get_ikk(f_s=f_s, f_b_nom=f_b, f_b_up=f_b_up, f_b_dw=f_b_dw)\n",
    "```\n",
    "\n",
    "This extracts the normalised shapes for signal and background (their PDFs) from the network predictions (`self.wrapper.y_pred`). Unlike the exact version, the background predictions don't include the shape nuisances. In order to evaluate these, we pass the background data to `self._get_up_down`, which passes up/down systematic data through the network and returns the shape templates. Currently it an abstract function to be overridden in a problem-specific class. \n",
    "\n",
    "```python\n",
    "@abstractmethod\n",
    "def _get_up_down(self, x:Tensor) -> Tuple[Tensor,Tensor]:\n",
    "    r'''Compute up/down shapes. Override this for specific problem.'''\n",
    "    pass\n",
    "```\n",
    "\n",
    "Now that we have nominal shape templates for signal and background, and the shape templates for background after +1 and -1 sigma variations of each shape-affecting nuisance parameters, we are now at a similar state to when we are evaluating the trained models on the benchmark problems in the previous posts. I.e. we can compute the negative log-likelihood, and optimise it by varying the nuisance parameters based on interpolating between the nominal and ±1-sigma variations, for fixed values of the parameter of interest.\n",
    "\n",
    "The key point is that we actually start with the nuisances at their nominal values, and we only need to evaluate the parameter of interest at its nominal value, so no optimisation is required. The actual implementation includes code for applying the data augmentation mentioned earlier, but I'll remove it here for simplicity.\n",
    "\n",
    "```python\n",
    "def get_ikk(self, f_s:Tensor, f_b_nom:Tensor, f_b_up:Tensor, f_b_dw:Tensor) -> Tensor:\n",
    "    r'''Compute full hessian at true param values, or at random starting values with Newton updates'''\n",
    "    alpha = torch.zeros((self.n_alphas+1+self.float_b), requires_grad=True, device=self.wrapper.device)\n",
    "    with torch.no_grad(): alpha[0] += self.true_mu\n",
    "    get_nll = partialler(calc_nll, s_true=self.true_mu, b_true=self.true_b,\n",
    "                         f_s=f_s, f_b_nom=f_b_nom, f_b_up=f_b_up, f_b_dw=f_b_dw, alpha_aux=self.alpha_aux, b_aux=self.b_aux)\n",
    "    nll = get_nll(s_exp=alpha[0], b_exp=self.true_b+alpha[1] if self.float_b else self.true_b, alpha=alpha[1+self.float_b:])\n",
    "    _,h = calc_grad_hesse(nll, alpha, create_graph=True)\n",
    "    return torch.inverse(h)[0,0]\n",
    "```\n",
    "\n",
    "So, first we create a tensor, `alpha`, to contain the parameter of interest and the nuisance parameters (all zero except the parameter of interest (PoI)), and then we compute the NLL using [calc_nll](https://gilesstrong.github.io/pytorch_inferno/inference.html#calc_nll) (we've called this function in the past when evaluating benchmarks, but it has been wrapped by [calc_profile](https://gilesstrong.github.io/pytorch_inferno/inference.html#calc_profile) to handle multiple PoIs). Once we have the NLL, we can then compute the INFERNO loss as usual by inverting the Hessian of the NLL w.r.t. the PoI and nuisances ([calc_grad_hesse](https://gilesstrong.github.io/pytorch_inferno/inference.html#calc_grad_hesse)), and returning the element corresponding to the PoI."
   ],
   "metadata": {}
  },
  {
   "cell_type": "markdown",
   "source": [
    "### Problem-specific class"
   ],
   "metadata": {}
  },
  {
   "cell_type": "markdown",
   "source": [
    "Similar to last time, we want to inherit from our abstract implementation of INFERNO to better suit the problem at hand. [PaperInferno](https://gilesstrong.github.io/pytorch_inferno/inferno_interp.html#PaperInferno) is included to work with the toy problem in the original paper. I mentioned at the start that this approximation of INFERNO was designed to work with pre-produced datasets that contain both nominal and systematic datasets, however for this example, we'll generate the systematic datasets on the fly since we can analytically modify the inputs. If we were to do this properly, we would generate the systematic datasets beforehand, and allow the callback to sample batches from them during training. Probably I'll eventually add a class to the library that can do this.\n",
    "\n",
    "Anyway, for now, our class overrides `_get_up_down` like this:\n",
    "\n",
    "```python   \n",
    "def _get_up_down(self, x:Tensor) -> Tuple[Tensor,Tensor]:\n",
    "    if self.r_mods is None and self.l_mods is None: return None,None\n",
    "    u,d = [],[]\n",
    "    if self.r_mods is not None:\n",
    "        with torch.no_grad(): x = x+self.r_mod_t[0]\n",
    "        d.append(self.to_shape(self.wrapper.model(x)))\n",
    "        with torch.no_grad(): x = x+self.r_mod_t[1]-self.r_mod_t[0]\n",
    "        u.append(self.to_shape(self.wrapper.model(x)))\n",
    "        with torch.no_grad(): x = x-self.r_mod_t[1]\n",
    "    if self.l_mods is not None:\n",
    "        with torch.no_grad(): x = x*self.l_mod_t[0]\n",
    "        d.append(self.to_shape(self.wrapper.model(x)))\n",
    "        with torch.no_grad(): x = x*self.l_mod_t[1]/self.l_mod_t[0]\n",
    "        u.append(self.to_shape(self.wrapper.model(x)))\n",
    "        with torch.no_grad(): x = x/self.l_mod_t[1]\n",
    "    return torch.stack(u),torch.stack(d)\n",
    "```\n",
    "\n",
    "I.e. it modifies the current data, passes it through the model, and constructs the templates for independent up and down systematics. A proper implementation would instead sample minibatch `x` from the respective systematic dataset and pass it through the model"
   ],
   "metadata": {}
  },
  {
   "cell_type": "markdown",
   "source": [
    "## DNN training"
   ],
   "metadata": {}
  },
  {
   "cell_type": "markdown",
   "source": [
    "We train the network in a similar fashion as in [part-4](https://gilesstrong.github.io/website/statistics/hep/inferno/2020/12/31/inferno-4.html#DNN-training), except we now use the approximated version of INFERNO"
   ],
   "metadata": {}
  },
  {
   "cell_type": "code",
   "execution_count": 8,
   "source": [
    "from pytorch_inferno.utils import init_net\n",
    "from pytorch_inferno.model_wrapper import ModelWrapper\n",
    "from torch import nn\n",
    "def get_model() -> ModelWrapper:\n",
    "    net = nn.Sequential(nn.Linear(3,100),  nn.ReLU(),\n",
    "                        nn.Linear(100,100),nn.ReLU(),\n",
    "                        nn.Linear(100,10),  VariableSoftmax(0.1))\n",
    "    init_net(net)  # Initialise weights and biases\n",
    "    return ModelWrapper(net)    "
   ],
   "outputs": [],
   "metadata": {}
  },
  {
   "cell_type": "code",
   "execution_count": 9,
   "source": [
    "from pytorch_inferno.data import get_paper_data\n",
    "data, test = get_paper_data(n=200000, bs=2000, n_test=1000000)"
   ],
   "outputs": [],
   "metadata": {}
  },
  {
   "cell_type": "code",
   "execution_count": 12,
   "source": [
    "from pytorch_inferno.inferno_interp import PaperInferno, VariableSoftmax\n",
    "from torch import distributions\n",
    "inferno = PaperInferno(r_mods=(-0.2,0.2),  # Let r be a shape nuisance and specify down/up values\n",
    "                       l_mods=(2.5,3.5),   # Let lambda be a shape nuisance and specify down/up values\n",
    "                       float_b=True,  # Let the background yield be a nusiance\n",
    "                       alpha_aux=[distributions.Normal(0,2), distributions.Normal(0,2)],  # Include auxiliary measurements on r & lambda\n",
    "                       b_aux=distributions.Normal(1000,100))  # Include auxiliary measurements on the background yield"
   ],
   "outputs": [],
   "metadata": {}
  },
  {
   "cell_type": "markdown",
   "source": [
    "Now let's train the model. In contrast to the paper, we'll use ADAM for optimisation, at a slightly higher learning rate, to save time. We'll also avoid overtraining by saving when the model improves using [callbacks](https://gilesstrong.github.io/pytorch_inferno/callback.html). Note that we don't specify a loss argument."
   ],
   "metadata": {}
  },
  {
   "cell_type": "code",
   "execution_count": 13,
   "source": [
    "from fastcore.all import partialler\n",
    "from torch import optim\n",
    "from pytorch_inferno.callback import LossTracker, SaveBest, EarlyStopping\n",
    "model = get_model()\n",
    "model.fit(200, data=data, opt=partialler(optim.Adam,lr=8e-5), loss=None,\n",
    "          cbs=[inferno,LossTracker(),SaveBest('weights/best_inferno.h5'),EarlyStopping(5)])"
   ],
   "outputs": [
    {
     "output_type": "display_data",
     "data": {
      "text/html": [
       "\n",
       "    <div>\n",
       "        <style>\n",
       "            /* Turns off some styling */\n",
       "            progress {\n",
       "                /* gets rid of default border in Firefox and Opera. */\n",
       "                border: none;\n",
       "                /* Needs to be in here for Safari polyfill so background images work as expected. */\n",
       "                background-size: auto;\n",
       "            }\n",
       "            .progress-bar-interrupted, .progress-bar-interrupted::-webkit-progress-bar {\n",
       "                background: #F44336;\n",
       "            }\n",
       "        </style>\n",
       "      <progress value='103' class='' max='200', style='width:300px; height:20px; vertical-align: middle;'></progress>\n",
       "      51.50% [103/200 16:23<15:26]\n",
       "    </div>\n",
       "    \n",
       "\n",
       "\n",
       "    <div>\n",
       "        <style>\n",
       "            /* Turns off some styling */\n",
       "            progress {\n",
       "                /* gets rid of default border in Firefox and Opera. */\n",
       "                border: none;\n",
       "                /* Needs to be in here for Safari polyfill so background images work as expected. */\n",
       "                background-size: auto;\n",
       "            }\n",
       "            .progress-bar-interrupted, .progress-bar-interrupted::-webkit-progress-bar {\n",
       "                background: #F44336;\n",
       "            }\n",
       "        </style>\n",
       "      <progress value='50' class='' max='50', style='width:300px; height:20px; vertical-align: middle;'></progress>\n",
       "      100.00% [50/50 00:03<00:00]\n",
       "    </div>\n",
       "    "
      ],
      "text/plain": [
       "<IPython.core.display.HTML object>"
      ]
     },
     "metadata": {}
    },
    {
     "output_type": "stream",
     "name": "stdout",
     "text": [
      "1: Train=1903.3741125488282 Valid=1099.821317138672\n",
      "2: Train=949.5193017578125 Valid=871.2384777832032\n",
      "3: Train=784.0374075317383 Valid=740.7831909179688\n",
      "4: Train=676.6555770874023 Valid=623.6444390869141\n",
      "5: Train=588.5027008056641 Valid=579.0961938476562\n",
      "6: Train=556.9197653198243 Valid=553.1921911621093\n",
      "7: Train=531.2430877685547 Valid=531.6476770019531\n",
      "8: Train=511.1146792602539 Valid=512.2304235839844\n",
      "9: Train=496.7247784423828 Valid=496.2313848876953\n",
      "10: Train=475.7442514038086 Valid=481.18335876464846\n",
      "11: Train=465.06764404296877 Valid=467.6013262939453\n",
      "12: Train=453.10702941894533 Valid=456.12772888183594\n",
      "13: Train=441.7800866699219 Valid=447.8130987548828\n",
      "14: Train=433.41732116699217 Valid=437.7292547607422\n",
      "15: Train=424.49437103271487 Valid=430.0029229736328\n",
      "16: Train=416.7866101074219 Valid=426.0567614746094\n",
      "17: Train=412.7526251220703 Valid=419.2637548828125\n",
      "18: Train=408.7203356933594 Valid=416.4257537841797\n",
      "19: Train=400.82221466064453 Valid=409.8280517578125\n",
      "20: Train=399.35216857910154 Valid=407.7358648681641\n",
      "21: Train=394.8920980834961 Valid=404.62935546875\n",
      "22: Train=392.22727661132814 Valid=400.5902557373047\n",
      "23: Train=387.8922058105469 Valid=396.4555090332031\n",
      "24: Train=386.4134075927734 Valid=395.3793377685547\n",
      "25: Train=384.1147979736328 Valid=389.80433471679686\n",
      "26: Train=380.9291650390625 Valid=386.91029174804686\n",
      "27: Train=377.0340869140625 Valid=388.1162451171875\n",
      "28: Train=375.92713134765626 Valid=385.6933905029297\n",
      "29: Train=374.33164367675784 Valid=382.5351153564453\n",
      "30: Train=371.9804290771484 Valid=380.67197082519533\n",
      "31: Train=368.66335632324217 Valid=378.97169189453126\n",
      "32: Train=367.6147705078125 Valid=378.1017291259766\n",
      "33: Train=363.45591827392576 Valid=377.79085327148437\n",
      "34: Train=363.84340896606443 Valid=374.8612762451172\n",
      "35: Train=361.1047927856445 Valid=374.572109375\n",
      "36: Train=360.6424502563477 Valid=372.1866046142578\n",
      "37: Train=359.7146035766602 Valid=370.7572198486328\n",
      "38: Train=358.75559661865236 Valid=371.33667236328125\n",
      "39: Train=355.9152355957031 Valid=368.7162133789063\n",
      "40: Train=355.1406524658203 Valid=370.5099066162109\n",
      "41: Train=352.2504364013672 Valid=367.6858612060547\n",
      "42: Train=351.0478335571289 Valid=366.42741638183594\n",
      "43: Train=352.3582815551758 Valid=365.37479431152343\n",
      "44: Train=349.79847747802734 Valid=364.5373815917969\n",
      "45: Train=351.1881408691406 Valid=362.6999938964844\n",
      "46: Train=348.9755392456055 Valid=360.88500427246095\n",
      "47: Train=347.34831604003904 Valid=360.76511657714843\n",
      "48: Train=345.6294583129883 Valid=360.39421447753904\n",
      "49: Train=343.59228576660155 Valid=359.66538818359373\n",
      "50: Train=346.0175961303711 Valid=357.86841064453125\n",
      "51: Train=344.6366781616211 Valid=359.06419250488284\n",
      "52: Train=341.4972285461426 Valid=356.19458435058596\n",
      "53: Train=341.9684248352051 Valid=356.2013336181641\n",
      "54: Train=340.62243362426756 Valid=354.7986822509766\n",
      "55: Train=339.8979489135742 Valid=355.1641271972656\n",
      "56: Train=340.5874548339844 Valid=354.5460137939453\n",
      "57: Train=337.78608337402346 Valid=352.9345196533203\n",
      "58: Train=338.2697674560547 Valid=351.7689556884766\n",
      "59: Train=336.8008772277832 Valid=352.7039239501953\n",
      "60: Train=336.6271438598633 Valid=350.5672857666016\n",
      "61: Train=333.62806350708007 Valid=350.3022137451172\n",
      "62: Train=333.2799528503418 Valid=351.6690576171875\n",
      "63: Train=334.6952801513672 Valid=349.2768273925781\n",
      "64: Train=334.7041619873047 Valid=349.21451782226563\n",
      "65: Train=333.62857818603516 Valid=351.12249572753905\n",
      "66: Train=332.74018524169924 Valid=346.973759765625\n",
      "67: Train=329.8943818664551 Valid=348.11360412597656\n",
      "68: Train=332.9227757263184 Valid=347.2443560791016\n",
      "69: Train=329.22062530517576 Valid=346.0074743652344\n",
      "70: Train=329.7236764526367 Valid=346.23931884765625\n",
      "71: Train=329.0929122924805 Valid=344.219853515625\n",
      "72: Train=329.3751695251465 Valid=345.1238238525391\n",
      "73: Train=329.4808396911621 Valid=345.1286047363281\n",
      "74: Train=328.91672256469724 Valid=345.9363116455078\n",
      "75: Train=327.8580014038086 Valid=343.5010699462891\n",
      "76: Train=327.675544128418 Valid=343.328955078125\n",
      "77: Train=326.15745666503904 Valid=341.92960876464844\n",
      "78: Train=328.9135433959961 Valid=343.7149389648437\n",
      "79: Train=326.5412274169922 Valid=340.72755249023436\n",
      "80: Train=327.1108027648926 Valid=342.9395086669922\n",
      "81: Train=325.51490631103513 Valid=342.25386932373044\n",
      "82: Train=323.1186293029785 Valid=339.41467224121095\n",
      "83: Train=323.5835791015625 Valid=340.5097528076172\n",
      "84: Train=323.02451416015623 Valid=340.3460504150391\n",
      "85: Train=323.5133598327637 Valid=339.0770629882812\n",
      "86: Train=324.4291862487793 Valid=342.1396295166016\n",
      "87: Train=322.38175201416016 Valid=341.73817932128907\n",
      "88: Train=321.80700439453125 Valid=340.46791748046877\n",
      "89: Train=323.08181732177735 Valid=336.96313232421875\n",
      "90: Train=322.5729107666016 Valid=338.9583264160156\n",
      "91: Train=321.12098159790037 Valid=340.28571838378906\n",
      "92: Train=322.7699349975586 Valid=337.8809533691406\n",
      "93: Train=320.90445220947265 Valid=336.4360284423828\n",
      "94: Train=321.4063262939453 Valid=336.58940979003904\n",
      "95: Train=319.529539642334 Valid=337.05964599609376\n",
      "96: Train=321.07305908203125 Valid=334.4169158935547\n",
      "97: Train=319.94526412963864 Valid=337.0082684326172\n",
      "98: Train=320.0385334777832 Valid=335.60974365234375\n",
      "99: Train=318.8555616760254 Valid=333.65868713378904\n",
      "100: Train=317.8938897705078 Valid=336.39325256347655\n",
      "101: Train=318.79115554809573 Valid=334.6770684814453\n",
      "102: Train=317.1104347229004 Valid=334.6987811279297\n",
      "103: Train=316.3874523925781 Valid=334.5063348388672\n",
      "104: Train=317.27213409423825 Valid=335.46395202636717\n",
      "Early stopping\n",
      "Loading best model with loss 333.65868713378904\n"
     ]
    }
   ],
   "metadata": {
    "scrolled": false,
    "tags": []
   }
  },
  {
   "cell_type": "markdown",
   "source": [
    "Having trained the model, we again want to bin the predictions via hard assignments"
   ],
   "metadata": {}
  },
  {
   "cell_type": "code",
   "execution_count": 14,
   "source": [
    "from pytorch_inferno.inferno import InfernoPred\n",
    "preds = model._predict_dl(test, pred_cb=InfernoPred())"
   ],
   "outputs": [
    {
     "output_type": "display_data",
     "data": {
      "text/html": [
       "\n",
       "    <div>\n",
       "        <style>\n",
       "            /* Turns off some styling */\n",
       "            progress {\n",
       "                /* gets rid of default border in Firefox and Opera. */\n",
       "                border: none;\n",
       "                /* Needs to be in here for Safari polyfill so background images work as expected. */\n",
       "                background-size: auto;\n",
       "            }\n",
       "            .progress-bar-interrupted, .progress-bar-interrupted::-webkit-progress-bar {\n",
       "                background: #F44336;\n",
       "            }\n",
       "        </style>\n",
       "      <progress value='250' class='' max='250', style='width:300px; height:20px; vertical-align: middle;'></progress>\n",
       "      100.00% [250/250 00:12<00:00]\n",
       "    </div>\n",
       "    "
      ],
      "text/plain": [
       "<IPython.core.display.HTML object>"
      ]
     },
     "metadata": {}
    }
   ],
   "metadata": {}
  },
  {
   "cell_type": "code",
   "execution_count": 15,
   "source": [
    "import pandas as pd\n",
    "df = pd.DataFrame({'pred':preds.squeeze()})\n",
    "df['gen_target'] = test.dataset.y\n",
    "df.head()"
   ],
   "outputs": [
    {
     "output_type": "execute_result",
     "data": {
      "text/html": [
       "<div>\n",
       "<style scoped>\n",
       "    .dataframe tbody tr th:only-of-type {\n",
       "        vertical-align: middle;\n",
       "    }\n",
       "\n",
       "    .dataframe tbody tr th {\n",
       "        vertical-align: top;\n",
       "    }\n",
       "\n",
       "    .dataframe thead th {\n",
       "        text-align: right;\n",
       "    }\n",
       "</style>\n",
       "<table border=\"1\" class=\"dataframe\">\n",
       "  <thead>\n",
       "    <tr style=\"text-align: right;\">\n",
       "      <th></th>\n",
       "      <th>pred</th>\n",
       "      <th>gen_target</th>\n",
       "    </tr>\n",
       "  </thead>\n",
       "  <tbody>\n",
       "    <tr>\n",
       "      <th>0</th>\n",
       "      <td>9</td>\n",
       "      <td>1.0</td>\n",
       "    </tr>\n",
       "    <tr>\n",
       "      <th>1</th>\n",
       "      <td>9</td>\n",
       "      <td>1.0</td>\n",
       "    </tr>\n",
       "    <tr>\n",
       "      <th>2</th>\n",
       "      <td>6</td>\n",
       "      <td>1.0</td>\n",
       "    </tr>\n",
       "    <tr>\n",
       "      <th>3</th>\n",
       "      <td>4</td>\n",
       "      <td>1.0</td>\n",
       "    </tr>\n",
       "    <tr>\n",
       "      <th>4</th>\n",
       "      <td>9</td>\n",
       "      <td>1.0</td>\n",
       "    </tr>\n",
       "  </tbody>\n",
       "</table>\n",
       "</div>"
      ],
      "text/plain": [
       "   pred  gen_target\n",
       "0     9         1.0\n",
       "1     9         1.0\n",
       "2     6         1.0\n",
       "3     4         1.0\n",
       "4     9         1.0"
      ]
     },
     "metadata": {},
     "execution_count": 15
    }
   ],
   "metadata": {}
  },
  {
   "cell_type": "code",
   "execution_count": 16,
   "source": [
    "from pytorch_inferno.plotting import plot_preds\n",
    "import numpy as np\n",
    "plot_preds(df, bin_edges=np.linspace(0,10,11))"
   ],
   "outputs": [
    {
     "output_type": "display_data",
     "data": {
      "image/png": "[encoded data removed]",
      "text/plain": [
       "<Figure size 1024x576 with 1 Axes>"
      ]
     },
     "metadata": {}
    }
   ],
   "metadata": {}
  },
  {
   "cell_type": "markdown",
   "source": [
    "## Parameter estimation"
   ],
   "metadata": {}
  },
  {
   "cell_type": "markdown",
   "source": [
    "To save time let's test the method on just the easiest and most difficult benchmarks. For readability, I'll hide the code cells (they'll still show up if you open the notebook yourself to run it)."
   ],
   "metadata": {}
  },
  {
   "cell_type": "code",
   "execution_count": 17,
   "source": [
    "# hide\n",
    "df['pred_bin'] = df.pred"
   ],
   "outputs": [],
   "metadata": {}
  },
  {
   "cell_type": "code",
   "execution_count": 18,
   "source": [
    "# hide\n",
    "\n",
    "from pytorch_inferno.inference import get_shape\n",
    "f_s,f_b = get_shape(df,targ=1),get_shape(df,targ=0)  # Gets normalised shape for each class\n",
    "f_s,f_b"
   ],
   "outputs": [
    {
     "output_type": "execute_result",
     "data": {
      "text/plain": [
       "(tensor([0.0715, 0.0197, 0.0244, 0.0302, 0.1456, 0.0744, 0.3929, 0.0513, 0.0100,\n",
       "         0.1801]),\n",
       " tensor([0.0220, 0.0869, 0.0907, 0.1021, 0.0090, 0.4148, 0.0535, 0.1650, 0.0027,\n",
       "         0.0533]))"
      ]
     },
     "metadata": {},
     "execution_count": 18
    }
   ],
   "metadata": {}
  },
  {
   "cell_type": "markdown",
   "source": [
    "### Benchmark 0 - No nuisance parameters"
   ],
   "metadata": {}
  },
  {
   "cell_type": "code",
   "execution_count": 19,
   "source": [
    "# hide\n",
    "\n",
    "asimov = (50*f_s)+(1000*f_b)\n",
    "asimov, asimov.sum()"
   ],
   "outputs": [
    {
     "output_type": "execute_result",
     "data": {
      "text/plain": [
       "(tensor([ 25.5674,  87.8610,  91.9632, 103.6488,  16.2886, 418.5545,  73.1054,\n",
       "         167.5467,   3.1862,  62.2782]), tensor(1050.))"
      ]
     },
     "metadata": {},
     "execution_count": 19
    }
   ],
   "metadata": {}
  },
  {
   "cell_type": "code",
   "execution_count": 20,
   "source": [
    "# hide\n",
    "import torch\n",
    "n = 1050\n",
    "mu = torch.linspace(20,80,61)\n",
    "nll = -torch.distributions.Poisson((mu[:,None]*f_s)+(1000*f_b)).log_prob(asimov).sum(1)\n",
    "nll"
   ],
   "outputs": [
    {
     "output_type": "execute_result",
     "data": {
      "text/plain": [
       "tensor([31.6005, 31.4483, 31.3028, 31.1635, 31.0301, 30.9027, 30.7812, 30.6655,\n",
       "        30.5557, 30.4515, 30.3528, 30.2596, 30.1714, 30.0892, 30.0118, 29.9399,\n",
       "        29.8725, 29.8107, 29.7539, 29.7018, 29.6547, 29.6121, 29.5741, 29.5412,\n",
       "        29.5125, 29.4885, 29.4691, 29.4540, 29.4434, 29.4372, 29.4350, 29.4371,\n",
       "        29.4433, 29.4537, 29.4680, 29.4865, 29.5089, 29.5351, 29.5656, 29.5997,\n",
       "        29.6375, 29.6794, 29.7249, 29.7738, 29.8265, 29.8828, 29.9424, 30.0061,\n",
       "        30.0727, 30.1430, 30.2169, 30.2939, 30.3745, 30.4582, 30.5451, 30.6355,\n",
       "        30.7290, 30.8255, 30.9255, 31.0283, 31.1344])"
      ]
     },
     "metadata": {},
     "execution_count": 20
    }
   ],
   "metadata": {}
  },
  {
   "cell_type": "code",
   "execution_count": 21,
   "source": [
    "from pytorch_inferno.plotting import plot_likelihood\n",
    "plot_likelihood(nll-nll.min())"
   ],
   "outputs": [
    {
     "output_type": "display_data",
     "data": {
      "image/png": "[encoded data removed]",
      "text/plain": [
       "<Figure size 1024x576 with 1 Axes>"
      ]
     },
     "metadata": {}
    }
   ],
   "metadata": {}
  },
  {
   "cell_type": "markdown",
   "source": [
    "As a reminder, the binary cross-entropy classifier achieved a width of 15.02, and the exact version of INFERNO got 15.86, so the interpolation version does quite well!"
   ],
   "metadata": {}
  },
  {
   "cell_type": "markdown",
   "source": [
    "### Benchmark 4 - Normalisation uncertainty with auxiliary measurements"
   ],
   "metadata": {}
  },
  {
   "cell_type": "code",
   "execution_count": 22,
   "source": [
    "# hide\n",
    "from pytorch_inferno.inference import get_paper_syst_shapes\n",
    "bkg = test.dataset.x[test.dataset.y.squeeze() == 0]  # Select the background test data\n",
    "b_shapes = get_paper_syst_shapes(bkg, df, model=model, pred_cb=InfernoPred())"
   ],
   "outputs": [
    {
     "output_type": "stream",
     "name": "stdout",
     "text": [
      "Running: r=-0.2\n"
     ]
    },
    {
     "output_type": "display_data",
     "data": {
      "text/html": [
       "\n",
       "    <div>\n",
       "        <style>\n",
       "            /* Turns off some styling */\n",
       "            progress {\n",
       "                /* gets rid of default border in Firefox and Opera. */\n",
       "                border: none;\n",
       "                /* Needs to be in here for Safari polyfill so background images work as expected. */\n",
       "                background-size: auto;\n",
       "            }\n",
       "            .progress-bar-interrupted, .progress-bar-interrupted::-webkit-progress-bar {\n",
       "                background: #F44336;\n",
       "            }\n",
       "        </style>\n",
       "      <progress value='1' class='' max='1', style='width:300px; height:20px; vertical-align: middle;'></progress>\n",
       "      100.00% [1/1 00:04<00:00]\n",
       "    </div>\n",
       "    "
      ],
      "text/plain": [
       "<IPython.core.display.HTML object>"
      ]
     },
     "metadata": {}
    },
    {
     "output_type": "stream",
     "name": "stdout",
     "text": [
      "Running: r=0\n"
     ]
    },
    {
     "output_type": "display_data",
     "data": {
      "text/html": [
       "\n",
       "    <div>\n",
       "        <style>\n",
       "            /* Turns off some styling */\n",
       "            progress {\n",
       "                /* gets rid of default border in Firefox and Opera. */\n",
       "                border: none;\n",
       "                /* Needs to be in here for Safari polyfill so background images work as expected. */\n",
       "                background-size: auto;\n",
       "            }\n",
       "            .progress-bar-interrupted, .progress-bar-interrupted::-webkit-progress-bar {\n",
       "                background: #F44336;\n",
       "            }\n",
       "        </style>\n",
       "      <progress value='1' class='' max='1', style='width:300px; height:20px; vertical-align: middle;'></progress>\n",
       "      100.00% [1/1 00:04<00:00]\n",
       "    </div>\n",
       "    "
      ],
      "text/plain": [
       "<IPython.core.display.HTML object>"
      ]
     },
     "metadata": {}
    },
    {
     "output_type": "stream",
     "name": "stdout",
     "text": [
      "Running: r=0.2\n"
     ]
    },
    {
     "output_type": "display_data",
     "data": {
      "text/html": [
       "\n",
       "    <div>\n",
       "        <style>\n",
       "            /* Turns off some styling */\n",
       "            progress {\n",
       "                /* gets rid of default border in Firefox and Opera. */\n",
       "                border: none;\n",
       "                /* Needs to be in here for Safari polyfill so background images work as expected. */\n",
       "                background-size: auto;\n",
       "            }\n",
       "            .progress-bar-interrupted, .progress-bar-interrupted::-webkit-progress-bar {\n",
       "                background: #F44336;\n",
       "            }\n",
       "        </style>\n",
       "      <progress value='1' class='' max='1', style='width:300px; height:20px; vertical-align: middle;'></progress>\n",
       "      100.00% [1/1 00:05<00:00]\n",
       "    </div>\n",
       "    "
      ],
      "text/plain": [
       "<IPython.core.display.HTML object>"
      ]
     },
     "metadata": {}
    },
    {
     "output_type": "stream",
     "name": "stdout",
     "text": [
      "Running: l=2.5\n"
     ]
    },
    {
     "output_type": "display_data",
     "data": {
      "text/html": [
       "\n",
       "    <div>\n",
       "        <style>\n",
       "            /* Turns off some styling */\n",
       "            progress {\n",
       "                /* gets rid of default border in Firefox and Opera. */\n",
       "                border: none;\n",
       "                /* Needs to be in here for Safari polyfill so background images work as expected. */\n",
       "                background-size: auto;\n",
       "            }\n",
       "            .progress-bar-interrupted, .progress-bar-interrupted::-webkit-progress-bar {\n",
       "                background: #F44336;\n",
       "            }\n",
       "        </style>\n",
       "      <progress value='1' class='' max='1', style='width:300px; height:20px; vertical-align: middle;'></progress>\n",
       "      100.00% [1/1 00:04<00:00]\n",
       "    </div>\n",
       "    "
      ],
      "text/plain": [
       "<IPython.core.display.HTML object>"
      ]
     },
     "metadata": {}
    },
    {
     "output_type": "stream",
     "name": "stdout",
     "text": [
      "Running: l=3\n"
     ]
    },
    {
     "output_type": "display_data",
     "data": {
      "text/html": [
       "\n",
       "    <div>\n",
       "        <style>\n",
       "            /* Turns off some styling */\n",
       "            progress {\n",
       "                /* gets rid of default border in Firefox and Opera. */\n",
       "                border: none;\n",
       "                /* Needs to be in here for Safari polyfill so background images work as expected. */\n",
       "                background-size: auto;\n",
       "            }\n",
       "            .progress-bar-interrupted, .progress-bar-interrupted::-webkit-progress-bar {\n",
       "                background: #F44336;\n",
       "            }\n",
       "        </style>\n",
       "      <progress value='1' class='' max='1', style='width:300px; height:20px; vertical-align: middle;'></progress>\n",
       "      100.00% [1/1 00:04<00:00]\n",
       "    </div>\n",
       "    "
      ],
      "text/plain": [
       "<IPython.core.display.HTML object>"
      ]
     },
     "metadata": {}
    },
    {
     "output_type": "stream",
     "name": "stdout",
     "text": [
      "Running: l=3.5\n"
     ]
    },
    {
     "output_type": "display_data",
     "data": {
      "text/html": [
       "\n",
       "    <div>\n",
       "        <style>\n",
       "            /* Turns off some styling */\n",
       "            progress {\n",
       "                /* gets rid of default border in Firefox and Opera. */\n",
       "                border: none;\n",
       "                /* Needs to be in here for Safari polyfill so background images work as expected. */\n",
       "                background-size: auto;\n",
       "            }\n",
       "            .progress-bar-interrupted, .progress-bar-interrupted::-webkit-progress-bar {\n",
       "                background: #F44336;\n",
       "            }\n",
       "        </style>\n",
       "      <progress value='1' class='' max='1', style='width:300px; height:20px; vertical-align: middle;'></progress>\n",
       "      100.00% [1/1 00:04<00:00]\n",
       "    </div>\n",
       "    "
      ],
      "text/plain": [
       "<IPython.core.display.HTML object>"
      ]
     },
     "metadata": {}
    }
   ],
   "metadata": {}
  },
  {
   "cell_type": "code",
   "execution_count": 26,
   "source": [
    "# hide\n",
    "plot_preds(df, pred_names=['pred', 'pred_-0.2_3', 'pred_0.2_3', 'pred_0_2.5', 'pred_0_3.5'], bin_edges=np.linspace(0,10,11))"
   ],
   "outputs": [
    {
     "output_type": "display_data",
     "data": {
      "image/png": "[encoded data removed]",
      "text/plain": [
       "<Figure size 1024x576 with 1 Axes>"
      ]
     },
     "metadata": {}
    }
   ],
   "metadata": {}
  },
  {
   "cell_type": "code",
   "execution_count": 25,
   "source": [
    "%%capture --no-display\n",
    "alpha_aux = [torch.distributions.Normal(0,2), torch.distributions.Normal(0,2)]\n",
    "nll = profiler(alpha_aux=alpha_aux, float_b=True, b_aux=torch.distributions.Normal(1000,100), **b_shapes).cpu().detach()\n",
    "plot_likelihood(nll-nll.min())"
   ],
   "outputs": [
    {
     "output_type": "display_data",
     "data": {
      "text/html": [
       "\n",
       "    <div>\n",
       "        <style>\n",
       "            /* Turns off some styling */\n",
       "            progress {\n",
       "                /* gets rid of default border in Firefox and Opera. */\n",
       "                border: none;\n",
       "                /* Needs to be in here for Safari polyfill so background images work as expected. */\n",
       "                background-size: auto;\n",
       "            }\n",
       "            .progress-bar-interrupted, .progress-bar-interrupted::-webkit-progress-bar {\n",
       "                background: #F44336;\n",
       "            }\n",
       "        </style>\n",
       "      <progress value='61' class='' max='61', style='width:300px; height:20px; vertical-align: middle;'></progress>\n",
       "      100.00% [61/61 00:18<00:00]\n",
       "    </div>\n",
       "    "
      ],
      "text/plain": [
       "<IPython.core.display.HTML object>"
      ]
     },
     "metadata": {}
    },
    {
     "output_type": "display_data",
     "data": {
      "image/png": "[encoded data removed]",
      "text/plain": [
       "<Figure size 1024x576 with 1 Axes>"
      ]
     },
     "metadata": {}
    }
   ],
   "metadata": {}
  },
  {
   "cell_type": "markdown",
   "source": [
    "Again, the interpolation method does pretty well: the BCE classifier blew up to a width of 27.74, and the exact version of INFERNO got a much better constraint of 19.08 (slightly high compared to the paper value of 18.79)."
   ],
   "metadata": {}
  },
  {
   "cell_type": "markdown",
   "source": [
    "## Closing"
   ],
   "metadata": {}
  },
  {
   "cell_type": "markdown",
   "source": [
    "In this post we've looked at how the INFERNO method can be implemented without requiring analytical knowledge of how the nuisance parameters affect the inputs in the data. Instead we have approximated their affects by interpolating between up/down systematics datasets about the the nominal values. Such datasets are already produced during the course of a typical HEP analysis, and so this approximation improves the potential to be a drop-in replacement for the event-level classifier used in contemporary analyses.\n",
    "\n",
    "Whilst I've only tested the approximation using the same toy-data problem used by the paper, I have found that it was able to match the performance of the exact version, so I'll be interested to see how well it performs on real-world problems. Certainly, given the difference in performance illustrated by INFERNO (exact or interpolated) and a traditional BCE network, I think the method has a lot to offer in domains where uncertainties play a key role, and I'm looking forward to testing it out."
   ],
   "metadata": {}
  },
  {
   "cell_type": "code",
   "execution_count": null,
   "source": [],
   "outputs": [],
   "metadata": {}
  }
 ],
 "metadata": {
  "kernelspec": {
   "display_name": "Python 3",
   "language": "python",
   "name": "python3"
  },
  "language_info": {
   "codemirror_mode": {
    "name": "ipython",
    "version": 3
   },
   "file_extension": ".py",
   "mimetype": "text/x-python",
   "name": "python",
   "nbconvert_exporter": "python",
   "pygments_lexer": "ipython3",
   "version": "3.6.5"
  },
  "toc": {
   "base_numbering": 1,
   "nav_menu": {},
   "number_sections": true,
   "sideBar": true,
   "skip_h1_title": false,
   "title_cell": "Table of Contents",
   "title_sidebar": "Contents",
   "toc_cell": false,
   "toc_position": {},
   "toc_section_display": true,
   "toc_window_display": false
  }
 },
 "nbformat": 4,
 "nbformat_minor": 2
}